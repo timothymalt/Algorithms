{
 "cells": [
  {
   "cell_type": "code",
   "execution_count": 1,
   "metadata": {
    "collapsed": false
   },
   "outputs": [],
   "source": [
    "class cryptic:\n",
    "\n",
    "    def interleave(self, a, b):\n",
    "        a = str(a)\n",
    "        b = str(b)\n",
    "        x = len(a)\n",
    "        ls = ''\n",
    "\n",
    "        for i in range(x):\n",
    "            tempa = a[i]\n",
    "            tempb = b[i]\n",
    "            ls = ls + tempa + tempb\n",
    "\n",
    "        return(ls)\n",
    "\n",
    "    def next_greater_power_of_2(self, x):  \n",
    "        return 2**(x-1).bit_length()\n",
    "\n",
    "    def addDots(self, x):\n",
    "        next = self.next_greater_power_of_2(len(x))\n",
    "        add_dots = ''\n",
    "\n",
    "        for i in range(next - len(x)):\n",
    "            add_dots = add_dots + '.'\n",
    "\n",
    "        x = x + add_dots\n",
    "        return x\n",
    "    \n",
    "    def encode(self, j):\n",
    "        \n",
    "        # Break string into groups of 2\n",
    "        j_dots = self.addDots(j)\n",
    "        j_encode = [j_dots[i:i+2] for i in range(0, len(j_dots), 2)]\n",
    "\n",
    "        # Find number of iterations\n",
    "        length = len(j_encode)\n",
    "        iterations = 0\n",
    "\n",
    "        while length > 1:\n",
    "            length = length/2\n",
    "            iterations += 1       \n",
    "\n",
    "        #Begin Iterations of Interleave funcation\n",
    "        cypher = []\n",
    "        temp_cypher = []\n",
    "\n",
    "        while iterations > 0:\n",
    "            for i in range(0, len(j_encode), 2):\n",
    "                temp_cypher = self.interleave(j_encode[i], j_encode[i+1])\n",
    "                cypher.append(temp_cypher)\n",
    "            j_encode = cypher\n",
    "            cypher = []\n",
    "            temp_cypher = []\n",
    "            iterations = iterations - 1\n",
    "        \n",
    "        print(\"Initial input:\", j)\n",
    "        print(\"Expanded input\", j_dots)\n",
    "        print(\"Encoded output:\", j_encode[0])        "
   ]
  },
  {
   "cell_type": "code",
   "execution_count": 3,
   "metadata": {
    "collapsed": false
   },
   "outputs": [
    {
     "name": "stdout",
     "output_type": "stream",
     "text": [
      "Enter your Input: MIDS is amazing\n",
      "Initial input: MIDS is amazing\n",
      "Expanded input MIDS is amazing.\n",
      "Encoded output: Ma iDasgIminSz .\n"
     ]
    }
   ],
   "source": [
    "j = input(\"Enter your Input: \")\n",
    "c = cryptic()\n",
    "c.encode(j)"
   ]
  }
 ],
 "metadata": {
  "anaconda-cloud": {},
  "kernelspec": {
   "display_name": "Python [conda root]",
   "language": "python",
   "name": "conda-root-py"
  },
  "language_info": {
   "codemirror_mode": {
    "name": "ipython",
    "version": 3
   },
   "file_extension": ".py",
   "mimetype": "text/x-python",
   "name": "python",
   "nbconvert_exporter": "python",
   "pygments_lexer": "ipython3",
   "version": "3.5.2"
  }
 },
 "nbformat": 4,
 "nbformat_minor": 1
}

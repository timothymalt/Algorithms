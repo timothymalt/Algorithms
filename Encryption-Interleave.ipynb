{
 "cells": [
  {
   "cell_type": "markdown",
   "metadata": {},
   "source": [
    "## Encryption - Interleave\n",
    "\n",
    "The Challenge: Take an input string and encode it!\n",
    "\n",
    "Details: Create an interleave() function that takes two strings and \"zips\" them together as such:\n",
    "\n",
    "String 1: 1234\n",
    "String 2: abcd\n",
    "Interleave: 1a2b3c4d\n",
    "\n",
    "To encrypt a string: The minimum string lenth to be able to encrypt is 4.  For example, a string of \"abcd\" can be encrypted to be \"acbd\".  Break the string into the base number of \"blocks\" to interleave, and interleave the blocks.  Then continue interleaving the remaining blocks until only one string remains.\n",
    "\n",
    "Details:\n",
    "\n",
    "1. The minimum length of a string can only be 4 characters.\n",
    "2. The string must be a power of 2.  If the input string is not a power of 2, extend the string using periods.\n",
    "3. Break the string into a list of 2 characters per list element.  Interleave that list.  You will be left with a list half the size.\n",
    "4. Interleave again, and you will be left with a list half that size again (one quarter the original list).\n",
    "5. Continue until your list is only one element.  That's your encrypted result."
   ]
  },
  {
   "cell_type": "code",
   "execution_count": 1,
   "metadata": {
    "collapsed": false
   },
   "outputs": [],
   "source": [
    "class cryptic:\n",
    "\n",
    "    def interleave(self, a, b):\n",
    "        a = str(a)\n",
    "        b = str(b)\n",
    "        x = len(a)\n",
    "        ls = ''\n",
    "\n",
    "        for i in range(x):\n",
    "            tempa = a[i]\n",
    "            tempb = b[i]\n",
    "            ls = ls + tempa + tempb\n",
    "\n",
    "        return(ls)\n",
    "\n",
    "    def next_greater_power_of_2(self, x):  \n",
    "        return 2**(x-1).bit_length()\n",
    "\n",
    "    def addDots(self, x):\n",
    "        next = self.next_greater_power_of_2(len(x))\n",
    "        add_dots = ''\n",
    "\n",
    "        for i in range(next - len(x)):\n",
    "            add_dots = add_dots + '.'\n",
    "\n",
    "        x = x + add_dots\n",
    "        return x\n",
    "    \n",
    "    def encode(self, j):\n",
    "        \n",
    "        # Break string into groups of 2\n",
    "        j_dots = self.addDots(j)\n",
    "        j_encode = [j_dots[i:i+2] for i in range(0, len(j_dots), 2)]\n",
    "\n",
    "        # Find number of iterations\n",
    "        length = len(j_encode)\n",
    "        iterations = 0\n",
    "\n",
    "        while length > 1:\n",
    "            length = length/2\n",
    "            iterations += 1       \n",
    "\n",
    "        #Begin Iterations of Interleave funcation\n",
    "        cypher = []\n",
    "        temp_cypher = []\n",
    "\n",
    "        while iterations > 0:\n",
    "            for i in range(0, len(j_encode), 2):\n",
    "                temp_cypher = self.interleave(j_encode[i], j_encode[i+1])\n",
    "                cypher.append(temp_cypher)\n",
    "            j_encode = cypher\n",
    "            cypher = []\n",
    "            temp_cypher = []\n",
    "            iterations = iterations - 1\n",
    "        \n",
    "        print(\"Initial input:\", j)\n",
    "        print(\"Expanded input\", j_dots)\n",
    "        print(\"Encoded output:\", j_encode[0])        "
   ]
  },
  {
   "cell_type": "code",
   "execution_count": 3,
   "metadata": {
    "collapsed": false
   },
   "outputs": [
    {
     "name": "stdout",
     "output_type": "stream",
     "text": [
      "Enter your Input: MIDS is amazing\n",
      "Initial input: MIDS is amazing\n",
      "Expanded input MIDS is amazing.\n",
      "Encoded output: Ma iDasgIminSz .\n"
     ]
    }
   ],
   "source": [
    "j = input(\"Enter your Input: \")\n",
    "c = cryptic()\n",
    "c.encode(j)"
   ]
  }
 ],
 "metadata": {
  "anaconda-cloud": {},
  "kernelspec": {
   "display_name": "Python [conda root]",
   "language": "python",
   "name": "conda-root-py"
  },
  "language_info": {
   "codemirror_mode": {
    "name": "ipython",
    "version": 3
   },
   "file_extension": ".py",
   "mimetype": "text/x-python",
   "name": "python",
   "nbconvert_exporter": "python",
   "pygments_lexer": "ipython3",
   "version": "3.5.2"
  }
 },
 "nbformat": 4,
 "nbformat_minor": 1
}
